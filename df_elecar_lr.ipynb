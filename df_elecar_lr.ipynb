{
  "nbformat": 4,
  "nbformat_minor": 0,
  "metadata": {
    "colab": {
      "name": "df_elecar_lr.ipynb",
      "provenance": []
    },
    "kernelspec": {
      "name": "python3",
      "display_name": "Python 3"
    }
  },
  "cells": [
    {
      "cell_type": "code",
      "metadata": {
        "id": "1r0K2ozNg0E2"
      },
      "source": [
        "import numpy as np\n",
        "import matplotlib.pyplot as plt\n",
        "from tensorflow import keras\n",
        "from tensorflow.keras.layers import Dense\n",
        "from sklearn.linear_model import LinearRegression\n",
        "import pandas as pd"
      ],
      "execution_count": 2,
      "outputs": []
    },
    {
      "cell_type": "code",
      "metadata": {
        "colab": {
          "base_uri": "https://localhost:8080/",
          "height": 206
        },
        "id": "VZps_2JroO5x",
        "outputId": "1299f58f-f833-4b60-d74d-ab2e7f9b1ce3"
      },
      "source": [
        "df_elecar = pd.read_excel('/content/drive/MyDrive/Elec_car2xlsx.xlsx')\r\n",
        "df_elecar2 = df_elecar.set_index('시도')\r\n",
        "df_elecar2"
      ],
      "execution_count": 3,
      "outputs": [
        {
          "output_type": "execute_result",
          "data": {
            "text/html": [
              "<div>\n",
              "<style scoped>\n",
              "    .dataframe tbody tr th:only-of-type {\n",
              "        vertical-align: middle;\n",
              "    }\n",
              "\n",
              "    .dataframe tbody tr th {\n",
              "        vertical-align: top;\n",
              "    }\n",
              "\n",
              "    .dataframe thead th {\n",
              "        text-align: right;\n",
              "    }\n",
              "</style>\n",
              "<table border=\"1\" class=\"dataframe\">\n",
              "  <thead>\n",
              "    <tr style=\"text-align: right;\">\n",
              "      <th></th>\n",
              "      <th>1</th>\n",
              "      <th>2</th>\n",
              "      <th>3</th>\n",
              "      <th>4</th>\n",
              "      <th>5</th>\n",
              "      <th>6</th>\n",
              "      <th>7</th>\n",
              "      <th>8</th>\n",
              "      <th>9</th>\n",
              "      <th>10</th>\n",
              "      <th>11</th>\n",
              "      <th>12</th>\n",
              "      <th>13</th>\n",
              "      <th>14</th>\n",
              "      <th>15</th>\n",
              "      <th>16</th>\n",
              "      <th>17</th>\n",
              "      <th>18</th>\n",
              "      <th>19</th>\n",
              "      <th>20</th>\n",
              "      <th>21</th>\n",
              "      <th>22</th>\n",
              "      <th>23</th>\n",
              "      <th>24</th>\n",
              "      <th>25</th>\n",
              "      <th>26</th>\n",
              "      <th>27</th>\n",
              "      <th>28</th>\n",
              "      <th>29</th>\n",
              "      <th>30</th>\n",
              "      <th>31</th>\n",
              "      <th>32</th>\n",
              "      <th>33</th>\n",
              "      <th>34</th>\n",
              "    </tr>\n",
              "    <tr>\n",
              "      <th>시도</th>\n",
              "      <th></th>\n",
              "      <th></th>\n",
              "      <th></th>\n",
              "      <th></th>\n",
              "      <th></th>\n",
              "      <th></th>\n",
              "      <th></th>\n",
              "      <th></th>\n",
              "      <th></th>\n",
              "      <th></th>\n",
              "      <th></th>\n",
              "      <th></th>\n",
              "      <th></th>\n",
              "      <th></th>\n",
              "      <th></th>\n",
              "      <th></th>\n",
              "      <th></th>\n",
              "      <th></th>\n",
              "      <th></th>\n",
              "      <th></th>\n",
              "      <th></th>\n",
              "      <th></th>\n",
              "      <th></th>\n",
              "      <th></th>\n",
              "      <th></th>\n",
              "      <th></th>\n",
              "      <th></th>\n",
              "      <th></th>\n",
              "      <th></th>\n",
              "      <th></th>\n",
              "      <th></th>\n",
              "      <th></th>\n",
              "      <th></th>\n",
              "      <th></th>\n",
              "    </tr>\n",
              "  </thead>\n",
              "  <tbody>\n",
              "    <tr>\n",
              "      <th>전국</th>\n",
              "      <td>8911</td>\n",
              "      <td>9006</td>\n",
              "      <td>9593</td>\n",
              "      <td>10503</td>\n",
              "      <td>11917</td>\n",
              "      <td>14981</td>\n",
              "      <td>17515</td>\n",
              "      <td>19683</td>\n",
              "      <td>23011</td>\n",
              "      <td>26791</td>\n",
              "      <td>30659</td>\n",
              "      <td>32657</td>\n",
              "      <td>33100</td>\n",
              "      <td>33558</td>\n",
              "      <td>37790</td>\n",
              "      <td>42264</td>\n",
              "      <td>46615</td>\n",
              "      <td>50372</td>\n",
              "      <td>54078</td>\n",
              "      <td>56175</td>\n",
              "      <td>58683</td>\n",
              "      <td>61258</td>\n",
              "      <td>65306</td>\n",
              "      <td>67860</td>\n",
              "      <td>68338</td>\n",
              "      <td>70674</td>\n",
              "      <td>76323</td>\n",
              "      <td>79469</td>\n",
              "      <td>81264</td>\n",
              "      <td>86246</td>\n",
              "      <td>89094</td>\n",
              "      <td>92481</td>\n",
              "      <td>96744</td>\n",
              "      <td>98446</td>\n",
              "    </tr>\n",
              "    <tr>\n",
              "      <th>울산</th>\n",
              "      <td>191</td>\n",
              "      <td>193</td>\n",
              "      <td>200</td>\n",
              "      <td>225</td>\n",
              "      <td>280</td>\n",
              "      <td>354</td>\n",
              "      <td>401</td>\n",
              "      <td>454</td>\n",
              "      <td>550</td>\n",
              "      <td>663</td>\n",
              "      <td>858</td>\n",
              "      <td>910</td>\n",
              "      <td>923</td>\n",
              "      <td>926</td>\n",
              "      <td>960</td>\n",
              "      <td>1171</td>\n",
              "      <td>1398</td>\n",
              "      <td>1624</td>\n",
              "      <td>1831</td>\n",
              "      <td>1920</td>\n",
              "      <td>2013</td>\n",
              "      <td>2082</td>\n",
              "      <td>2330</td>\n",
              "      <td>2423</td>\n",
              "      <td>2458</td>\n",
              "      <td>2518</td>\n",
              "      <td>2661</td>\n",
              "      <td>2751</td>\n",
              "      <td>2823</td>\n",
              "      <td>3165</td>\n",
              "      <td>3214</td>\n",
              "      <td>3279</td>\n",
              "      <td>3379</td>\n",
              "      <td>3433</td>\n",
              "    </tr>\n",
              "  </tbody>\n",
              "</table>\n",
              "</div>"
            ],
            "text/plain": [
              "      1     2     3      4      5   ...     30     31     32     33     34\n",
              "시도                                  ...                                   \n",
              "전국  8911  9006  9593  10503  11917  ...  86246  89094  92481  96744  98446\n",
              "울산   191   193   200    225    280  ...   3165   3214   3279   3379   3433\n",
              "\n",
              "[2 rows x 34 columns]"
            ]
          },
          "metadata": {
            "tags": []
          },
          "execution_count": 3
        }
      ]
    },
    {
      "cell_type": "code",
      "metadata": {
        "id": "qtxtZPzFoPT8",
        "colab": {
          "base_uri": "https://localhost:8080/"
        },
        "outputId": "c10c8f85-6f17-4926-9c3c-0d86177ee932"
      },
      "source": [
        "X1 = list(df_elecar2.columns)\r\n",
        "X2 = np.array(X1)\r\n",
        "y_tot= df_elecar2.iloc[0,0:]\r\n",
        "ytot = np.array(y_tot)\r\n",
        "y_uls= df_elecar2.iloc[1,0:]\r\n",
        "yuls = np.array(y_uls)\r\n",
        "\r\n",
        "print('X2:',X2, \"y_tot:\",ytot,\"y_uls:\", yuls)"
      ],
      "execution_count": 4,
      "outputs": [
        {
          "output_type": "stream",
          "text": [
            "X2: [ 1  2  3  4  5  6  7  8  9 10 11 12 13 14 15 16 17 18 19 20 21 22 23 24\n",
            " 25 26 27 28 29 30 31 32 33 34] y_tot: [ 8911  9006  9593 10503 11917 14981 17515 19683 23011 26791 30659 32657\n",
            " 33100 33558 37790 42264 46615 50372 54078 56175 58683 61258 65306 67860\n",
            " 68338 70674 76323 79469 81264 86246 89094 92481 96744 98446] y_uls: [ 191  193  200  225  280  354  401  454  550  663  858  910  923  926\n",
            "  960 1171 1398 1624 1831 1920 2013 2082 2330 2423 2458 2518 2661 2751\n",
            " 2823 3165 3214 3279 3379 3433]\n"
          ],
          "name": "stdout"
        }
      ]
    },
    {
      "cell_type": "code",
      "metadata": {
        "id": "FuTl7BYrNYa8"
      },
      "source": [
        "plt.plot(X2,ytot)\r\n",
        "plt.show()"
      ],
      "execution_count": null,
      "outputs": []
    },
    {
      "cell_type": "code",
      "metadata": {
        "id": "nfjpmTW8ZJoP"
      },
      "source": [
        "plt.plot(X2,yuls)\r\n",
        "plt.show()"
      ],
      "execution_count": null,
      "outputs": []
    },
    {
      "cell_type": "code",
      "metadata": {
        "id": "lygaphV4Q8a0"
      },
      "source": [
        "new_X3 = X2.reshape(-1,1)\r\n",
        "new_X3"
      ],
      "execution_count": null,
      "outputs": []
    },
    {
      "cell_type": "code",
      "metadata": {
        "id": "Uu0Se7CnrtDN",
        "colab": {
          "base_uri": "https://localhost:8080/"
        },
        "outputId": "51425d4c-1515-4af2-e433-1cb00a44cfdc"
      },
      "source": [
        "lr = LinearRegression()\r\n",
        "lr.fit(new_X3,ytot)\r\n",
        "print('기울시:', lr.coef_, '\\ny절편:',lr.intercept_)"
      ],
      "execution_count": 6,
      "outputs": [
        {
          "output_type": "stream",
          "text": [
            "기울시: [2871.93567609] \n",
            "y절편: -1395.1978609625585\n"
          ],
          "name": "stdout"
        }
      ]
    },
    {
      "cell_type": "code",
      "metadata": {
        "id": "7MfUVGqCaH7A",
        "colab": {
          "base_uri": "https://localhost:8080/"
        },
        "outputId": "da1906b0-212a-47a6-cb4b-e30001b06a47"
      },
      "source": [
        "test_X1 = np.arange(33,96,1)\r\n",
        "test_X1"
      ],
      "execution_count": 7,
      "outputs": [
        {
          "output_type": "execute_result",
          "data": {
            "text/plain": [
              "array([33, 34, 35, 36, 37, 38, 39, 40, 41, 42, 43, 44, 45, 46, 47, 48, 49,\n",
              "       50, 51, 52, 53, 54, 55, 56, 57, 58, 59, 60, 61, 62, 63, 64, 65, 66,\n",
              "       67, 68, 69, 70, 71, 72, 73, 74, 75, 76, 77, 78, 79, 80, 81, 82, 83,\n",
              "       84, 85, 86, 87, 88, 89, 90, 91, 92, 93, 94, 95])"
            ]
          },
          "metadata": {
            "tags": []
          },
          "execution_count": 7
        }
      ]
    },
    {
      "cell_type": "code",
      "metadata": {
        "id": "hCmZI4hBaH-L",
        "colab": {
          "base_uri": "https://localhost:8080/"
        },
        "outputId": "0c88a657-135b-453c-cffd-339684be3d87"
      },
      "source": [
        "tot_prediction = []\r\n",
        "for i in test_X1:\r\n",
        "    tot_prediction.append(2871.94*i - 1395.2)\r\n",
        "\r\n",
        "print(\"Total:\", tot_prediction)"
      ],
      "execution_count": 8,
      "outputs": [
        {
          "output_type": "stream",
          "text": [
            "Total: [93378.82, 96250.76000000001, 99122.70000000001, 101994.64, 104866.58, 107738.52, 110610.46, 113482.40000000001, 116354.34000000001, 119226.28, 122098.22, 124970.16, 127842.1, 130714.04, 133585.97999999998, 136457.91999999998, 139329.86, 142201.8, 145073.74, 147945.68, 150817.62, 153689.56, 156561.5, 159433.44, 162305.38, 165177.31999999998, 168049.25999999998, 170921.19999999998, 173793.13999999998, 176665.08, 179537.02, 182408.96, 185280.9, 188152.84, 191024.78, 193896.72, 196768.66, 199640.6, 202512.53999999998, 205384.47999999998, 208256.41999999998, 211128.36, 214000.3, 216872.24, 219744.18, 222616.12, 225488.06, 228360.0, 231231.94, 234103.88, 236975.82, 239847.75999999998, 242719.69999999998, 245591.63999999998, 248463.58, 251335.52, 254207.46, 257079.4, 259951.34, 262823.27999999997, 265695.22, 268567.16, 271439.1]\n"
          ],
          "name": "stdout"
        }
      ]
    },
    {
      "cell_type": "code",
      "metadata": {
        "colab": {
          "base_uri": "https://localhost:8080/"
        },
        "id": "mXXwH5XuzeKJ",
        "outputId": "5f97552f-5e7a-44f7-aff2-66c8b225f5b7"
      },
      "source": [
        "lr = LinearRegression()\r\n",
        "lr.fit(new_X3,yuls)\r\n",
        "print('기울시:', lr.coef_, '\\ny절편:',lr.intercept_)"
      ],
      "execution_count": 9,
      "outputs": [
        {
          "output_type": "stream",
          "text": [
            "기울시: [109.60015279] \n",
            "y절편: -313.26737967914414\n"
          ],
          "name": "stdout"
        }
      ]
    },
    {
      "cell_type": "code",
      "metadata": {
        "colab": {
          "base_uri": "https://localhost:8080/"
        },
        "id": "T1s7Iwr3zeNN",
        "outputId": "195de957-d242-4075-fdea-33c6d08d577e"
      },
      "source": [
        "test_X1 = np.arange(33,96,1)\r\n",
        "test_X1"
      ],
      "execution_count": 10,
      "outputs": [
        {
          "output_type": "execute_result",
          "data": {
            "text/plain": [
              "array([33, 34, 35, 36, 37, 38, 39, 40, 41, 42, 43, 44, 45, 46, 47, 48, 49,\n",
              "       50, 51, 52, 53, 54, 55, 56, 57, 58, 59, 60, 61, 62, 63, 64, 65, 66,\n",
              "       67, 68, 69, 70, 71, 72, 73, 74, 75, 76, 77, 78, 79, 80, 81, 82, 83,\n",
              "       84, 85, 86, 87, 88, 89, 90, 91, 92, 93, 94, 95])"
            ]
          },
          "metadata": {
            "tags": []
          },
          "execution_count": 10
        }
      ]
    },
    {
      "cell_type": "code",
      "metadata": {
        "colab": {
          "base_uri": "https://localhost:8080/"
        },
        "id": "ex7foWP0zeQB",
        "outputId": "de2c09cf-7887-4a30-c5bd-bd686bc617ad"
      },
      "source": [
        "uls_prediction = []\r\n",
        "for i in test_X1:\r\n",
        "    uls_prediction.append(109.6*i - 313)\r\n",
        "\r\n",
        "print(\"Total:\", uls_prediction)"
      ],
      "execution_count": 11,
      "outputs": [
        {
          "output_type": "stream",
          "text": [
            "Total: [3303.7999999999997, 3413.3999999999996, 3523.0, 3632.6, 3742.2, 3851.8, 3961.3999999999996, 4071.0, 4180.599999999999, 4290.2, 4399.8, 4509.4, 4619.0, 4728.599999999999, 4838.2, 4947.799999999999, 5057.4, 5167.0, 5276.599999999999, 5386.2, 5495.799999999999, 5605.4, 5715.0, 5824.599999999999, 5934.2, 6043.799999999999, 6153.4, 6263.0, 6372.599999999999, 6482.2, 6591.799999999999, 6701.4, 6811.0, 6920.599999999999, 7030.2, 7139.799999999999, 7249.4, 7359.0, 7468.599999999999, 7578.2, 7687.799999999999, 7797.4, 7907.0, 8016.6, 8126.199999999999, 8235.8, 8345.4, 8455.0, 8564.6, 8674.199999999999, 8783.8, 8893.4, 9003.0, 9112.6, 9222.199999999999, 9331.8, 9441.4, 9551.0, 9660.6, 9770.199999999999, 9879.8, 9989.4, 10099.0]\n"
          ],
          "name": "stdout"
        }
      ]
    }
  ]
}