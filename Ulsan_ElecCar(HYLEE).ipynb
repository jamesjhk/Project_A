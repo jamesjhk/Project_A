{
  "nbformat": 4,
  "nbformat_minor": 0,
  "metadata": {
    "colab": {
      "name": "Ulsan_ElecCar(HYLEE).ipynb",
      "provenance": []
    },
    "kernelspec": {
      "name": "python3",
      "display_name": "Python 3"
    }
  },
  "cells": [
    {
      "cell_type": "code",
      "metadata": {
        "id": "uczK9GIN1diN"
      },
      "source": [
        "import pandas as pd\n",
        "import numpy as np\n",
        "import folium\n",
        "import matplotlib.pyplot as plt \n",
        "import requests\n",
        "import seaborn as sns"
      ],
      "execution_count": 1,
      "outputs": []
    },
    {
      "cell_type": "code",
      "metadata": {
        "id": "5HLlXemP8yhY",
        "colab": {
          "base_uri": "https://localhost:8080/"
        },
        "outputId": "8587ba6e-d54c-4cde-8f03-7273a57b50f1"
      },
      "source": [
        "!apt-get update -qq\r\n",
        "!apt-get install fonts-nanum* -qq\r\n",
        "\r\n",
        "import matplotlib.font_manager as fm\r\n",
        "\r\n",
        "path = '/usr/share/fonts/truetype/nanum/NanumGothicEco.ttf'\r\n",
        "font_name = fm.FontProperties(fname=path, size=10).get_name()\r\n",
        "\r\n",
        "plt.rc('font', family=font_name)\r\n",
        "\r\n",
        "fm._rebuild()"
      ],
      "execution_count": 2,
      "outputs": [
        {
          "output_type": "stream",
          "text": [
            "Selecting previously unselected package fonts-nanum.\n",
            "(Reading database ... 144865 files and directories currently installed.)\n",
            "Preparing to unpack .../fonts-nanum_20170925-1_all.deb ...\n",
            "Unpacking fonts-nanum (20170925-1) ...\n",
            "Selecting previously unselected package fonts-nanum-eco.\n",
            "Preparing to unpack .../fonts-nanum-eco_1.000-6_all.deb ...\n",
            "Unpacking fonts-nanum-eco (1.000-6) ...\n",
            "Selecting previously unselected package fonts-nanum-extra.\n",
            "Preparing to unpack .../fonts-nanum-extra_20170925-1_all.deb ...\n",
            "Unpacking fonts-nanum-extra (20170925-1) ...\n",
            "Selecting previously unselected package fonts-nanum-coding.\n",
            "Preparing to unpack .../fonts-nanum-coding_2.5-1_all.deb ...\n",
            "Unpacking fonts-nanum-coding (2.5-1) ...\n",
            "Setting up fonts-nanum-extra (20170925-1) ...\n",
            "Setting up fonts-nanum (20170925-1) ...\n",
            "Setting up fonts-nanum-coding (2.5-1) ...\n",
            "Setting up fonts-nanum-eco (1.000-6) ...\n",
            "Processing triggers for fontconfig (2.12.6-0ubuntu2) ...\n"
          ],
          "name": "stdout"
        }
      ]
    },
    {
      "cell_type": "code",
      "metadata": {
        "id": "12glzxTA1nEF",
        "colab": {
          "base_uri": "https://localhost:8080/",
          "height": 225
        },
        "outputId": "a7ef3548-78d9-4240-badf-52fd7f175a8e"
      },
      "source": [
        "df  = pd.read_excel('/content/drive/MyDrive/Ulsan AirCar.xlsx', index_col='년월')\r\n",
        "df.head()"
      ],
      "execution_count": 3,
      "outputs": [
        {
          "output_type": "execute_result",
          "data": {
            "text/html": [
              "<div>\n",
              "<style scoped>\n",
              "    .dataframe tbody tr th:only-of-type {\n",
              "        vertical-align: middle;\n",
              "    }\n",
              "\n",
              "    .dataframe tbody tr th {\n",
              "        vertical-align: top;\n",
              "    }\n",
              "\n",
              "    .dataframe thead th {\n",
              "        text-align: right;\n",
              "    }\n",
              "</style>\n",
              "<table border=\"1\" class=\"dataframe\">\n",
              "  <thead>\n",
              "    <tr style=\"text-align: right;\">\n",
              "      <th></th>\n",
              "      <th>SO2</th>\n",
              "      <th>NO2</th>\n",
              "      <th>O3</th>\n",
              "      <th>CO</th>\n",
              "      <th>PM10</th>\n",
              "      <th>전기차</th>\n",
              "      <th>승용차</th>\n",
              "    </tr>\n",
              "    <tr>\n",
              "      <th>년월</th>\n",
              "      <th></th>\n",
              "      <th></th>\n",
              "      <th></th>\n",
              "      <th></th>\n",
              "      <th></th>\n",
              "      <th></th>\n",
              "      <th></th>\n",
              "    </tr>\n",
              "  </thead>\n",
              "  <tbody>\n",
              "    <tr>\n",
              "      <th>2018. 01</th>\n",
              "      <td>0.004</td>\n",
              "      <td>0.014</td>\n",
              "      <td>0.016</td>\n",
              "      <td>0.9</td>\n",
              "      <td>46</td>\n",
              "      <td>191</td>\n",
              "      <td>460716</td>\n",
              "    </tr>\n",
              "    <tr>\n",
              "      <th>2018. 02</th>\n",
              "      <td>0.004</td>\n",
              "      <td>0.020</td>\n",
              "      <td>0.023</td>\n",
              "      <td>0.7</td>\n",
              "      <td>49</td>\n",
              "      <td>193</td>\n",
              "      <td>461396</td>\n",
              "    </tr>\n",
              "    <tr>\n",
              "      <th>2018. 03</th>\n",
              "      <td>0.004</td>\n",
              "      <td>0.023</td>\n",
              "      <td>0.028</td>\n",
              "      <td>0.6</td>\n",
              "      <td>37</td>\n",
              "      <td>200</td>\n",
              "      <td>462642</td>\n",
              "    </tr>\n",
              "    <tr>\n",
              "      <th>2018. 04</th>\n",
              "      <td>0.003</td>\n",
              "      <td>0.023</td>\n",
              "      <td>0.021</td>\n",
              "      <td>0.6</td>\n",
              "      <td>59</td>\n",
              "      <td>225</td>\n",
              "      <td>463830</td>\n",
              "    </tr>\n",
              "    <tr>\n",
              "      <th>2018. 05</th>\n",
              "      <td>0.004</td>\n",
              "      <td>0.018</td>\n",
              "      <td>0.021</td>\n",
              "      <td>0.7</td>\n",
              "      <td>39</td>\n",
              "      <td>280</td>\n",
              "      <td>464640</td>\n",
              "    </tr>\n",
              "  </tbody>\n",
              "</table>\n",
              "</div>"
            ],
            "text/plain": [
              "            SO2    NO2     O3   CO  PM10  전기차     승용차\n",
              "년월                                                   \n",
              "2018. 01  0.004  0.014  0.016  0.9    46  191  460716\n",
              "2018. 02  0.004  0.020  0.023  0.7    49  193  461396\n",
              "2018. 03  0.004  0.023  0.028  0.6    37  200  462642\n",
              "2018. 04  0.003  0.023  0.021  0.6    59  225  463830\n",
              "2018. 05  0.004  0.018  0.021  0.7    39  280  464640"
            ]
          },
          "metadata": {
            "tags": []
          },
          "execution_count": 3
        }
      ]
    },
    {
      "cell_type": "code",
      "metadata": {
        "id": "4PUiNvtVAoSQ",
        "colab": {
          "base_uri": "https://localhost:8080/",
          "height": 262
        },
        "outputId": "998819ed-1339-4c3a-ebc3-a14b7e8fb21f"
      },
      "source": [
        "df1 = pd.read_excel('/content/drive/MyDrive/Ulsan AirCar Plot.xlsx')\r\n",
        "df2 = df1.set_index('종류')\r\n",
        "df2.head()"
      ],
      "execution_count": 4,
      "outputs": [
        {
          "output_type": "execute_result",
          "data": {
            "text/html": [
              "<div>\n",
              "<style scoped>\n",
              "    .dataframe tbody tr th:only-of-type {\n",
              "        vertical-align: middle;\n",
              "    }\n",
              "\n",
              "    .dataframe tbody tr th {\n",
              "        vertical-align: top;\n",
              "    }\n",
              "\n",
              "    .dataframe thead th {\n",
              "        text-align: right;\n",
              "    }\n",
              "</style>\n",
              "<table border=\"1\" class=\"dataframe\">\n",
              "  <thead>\n",
              "    <tr style=\"text-align: right;\">\n",
              "      <th></th>\n",
              "      <th>2018. 01</th>\n",
              "      <th>2018. 02</th>\n",
              "      <th>2018. 03</th>\n",
              "      <th>2018. 04</th>\n",
              "      <th>2018. 05</th>\n",
              "      <th>2018. 06</th>\n",
              "      <th>2018. 07</th>\n",
              "      <th>2018. 08</th>\n",
              "      <th>2018. 09</th>\n",
              "      <th>2018. 10</th>\n",
              "      <th>2018. 11</th>\n",
              "      <th>2018. 12</th>\n",
              "      <th>2019. 01</th>\n",
              "      <th>2019. 02</th>\n",
              "      <th>2019. 03</th>\n",
              "      <th>2019. 04</th>\n",
              "      <th>2019. 05</th>\n",
              "      <th>2019. 06</th>\n",
              "      <th>2019. 07</th>\n",
              "      <th>2019. 08</th>\n",
              "      <th>2019. 09</th>\n",
              "      <th>2019. 10</th>\n",
              "      <th>2019. 11</th>\n",
              "      <th>2019. 12</th>\n",
              "      <th>2020. 01</th>\n",
              "      <th>2020. 02</th>\n",
              "      <th>2020. 03</th>\n",
              "      <th>2020. 04</th>\n",
              "      <th>2020. 05</th>\n",
              "      <th>2020. 06</th>\n",
              "    </tr>\n",
              "    <tr>\n",
              "      <th>종류</th>\n",
              "      <th></th>\n",
              "      <th></th>\n",
              "      <th></th>\n",
              "      <th></th>\n",
              "      <th></th>\n",
              "      <th></th>\n",
              "      <th></th>\n",
              "      <th></th>\n",
              "      <th></th>\n",
              "      <th></th>\n",
              "      <th></th>\n",
              "      <th></th>\n",
              "      <th></th>\n",
              "      <th></th>\n",
              "      <th></th>\n",
              "      <th></th>\n",
              "      <th></th>\n",
              "      <th></th>\n",
              "      <th></th>\n",
              "      <th></th>\n",
              "      <th></th>\n",
              "      <th></th>\n",
              "      <th></th>\n",
              "      <th></th>\n",
              "      <th></th>\n",
              "      <th></th>\n",
              "      <th></th>\n",
              "      <th></th>\n",
              "      <th></th>\n",
              "      <th></th>\n",
              "    </tr>\n",
              "  </thead>\n",
              "  <tbody>\n",
              "    <tr>\n",
              "      <th>SO2</th>\n",
              "      <td>0.004</td>\n",
              "      <td>0.004</td>\n",
              "      <td>0.004</td>\n",
              "      <td>0.003</td>\n",
              "      <td>0.004</td>\n",
              "      <td>0.004</td>\n",
              "      <td>0.006</td>\n",
              "      <td>0.004</td>\n",
              "      <td>0.005</td>\n",
              "      <td>0.003</td>\n",
              "      <td>0.003</td>\n",
              "      <td>0.004</td>\n",
              "      <td>0.003</td>\n",
              "      <td>0.003</td>\n",
              "      <td>0.004</td>\n",
              "      <td>0.004</td>\n",
              "      <td>0.004</td>\n",
              "      <td>0.004</td>\n",
              "      <td>0.004</td>\n",
              "      <td>0.004</td>\n",
              "      <td>0.004</td>\n",
              "      <td>0.003</td>\n",
              "      <td>0.003</td>\n",
              "      <td>0.003</td>\n",
              "      <td>0.003</td>\n",
              "      <td>0.003</td>\n",
              "      <td>0.003</td>\n",
              "      <td>0.003</td>\n",
              "      <td>0.004</td>\n",
              "      <td>0.005</td>\n",
              "    </tr>\n",
              "    <tr>\n",
              "      <th>NO2</th>\n",
              "      <td>0.014</td>\n",
              "      <td>0.020</td>\n",
              "      <td>0.023</td>\n",
              "      <td>0.023</td>\n",
              "      <td>0.018</td>\n",
              "      <td>0.014</td>\n",
              "      <td>0.012</td>\n",
              "      <td>0.013</td>\n",
              "      <td>0.017</td>\n",
              "      <td>0.017</td>\n",
              "      <td>0.024</td>\n",
              "      <td>0.022</td>\n",
              "      <td>0.026</td>\n",
              "      <td>0.028</td>\n",
              "      <td>0.025</td>\n",
              "      <td>0.026</td>\n",
              "      <td>0.026</td>\n",
              "      <td>0.023</td>\n",
              "      <td>0.017</td>\n",
              "      <td>0.017</td>\n",
              "      <td>0.019</td>\n",
              "      <td>0.022</td>\n",
              "      <td>0.024</td>\n",
              "      <td>0.026</td>\n",
              "      <td>0.026</td>\n",
              "      <td>0.023</td>\n",
              "      <td>0.019</td>\n",
              "      <td>0.016</td>\n",
              "      <td>0.015</td>\n",
              "      <td>0.017</td>\n",
              "    </tr>\n",
              "    <tr>\n",
              "      <th>O3</th>\n",
              "      <td>0.016</td>\n",
              "      <td>0.023</td>\n",
              "      <td>0.028</td>\n",
              "      <td>0.021</td>\n",
              "      <td>0.021</td>\n",
              "      <td>0.023</td>\n",
              "      <td>0.022</td>\n",
              "      <td>0.015</td>\n",
              "      <td>0.017</td>\n",
              "      <td>0.017</td>\n",
              "      <td>0.014</td>\n",
              "      <td>0.014</td>\n",
              "      <td>0.016</td>\n",
              "      <td>0.019</td>\n",
              "      <td>0.028</td>\n",
              "      <td>0.026</td>\n",
              "      <td>0.036</td>\n",
              "      <td>0.027</td>\n",
              "      <td>0.022</td>\n",
              "      <td>0.022</td>\n",
              "      <td>0.019</td>\n",
              "      <td>0.019</td>\n",
              "      <td>0.016</td>\n",
              "      <td>0.013</td>\n",
              "      <td>0.016</td>\n",
              "      <td>0.020</td>\n",
              "      <td>0.027</td>\n",
              "      <td>0.033</td>\n",
              "      <td>0.030</td>\n",
              "      <td>0.029</td>\n",
              "    </tr>\n",
              "    <tr>\n",
              "      <th>CO</th>\n",
              "      <td>0.900</td>\n",
              "      <td>0.700</td>\n",
              "      <td>0.600</td>\n",
              "      <td>0.600</td>\n",
              "      <td>0.700</td>\n",
              "      <td>0.700</td>\n",
              "      <td>0.700</td>\n",
              "      <td>0.700</td>\n",
              "      <td>0.800</td>\n",
              "      <td>0.600</td>\n",
              "      <td>0.900</td>\n",
              "      <td>0.900</td>\n",
              "      <td>0.800</td>\n",
              "      <td>0.700</td>\n",
              "      <td>0.800</td>\n",
              "      <td>0.700</td>\n",
              "      <td>0.600</td>\n",
              "      <td>0.600</td>\n",
              "      <td>0.600</td>\n",
              "      <td>0.800</td>\n",
              "      <td>0.700</td>\n",
              "      <td>0.600</td>\n",
              "      <td>0.600</td>\n",
              "      <td>0.700</td>\n",
              "      <td>0.700</td>\n",
              "      <td>0.700</td>\n",
              "      <td>0.600</td>\n",
              "      <td>0.600</td>\n",
              "      <td>0.700</td>\n",
              "      <td>0.700</td>\n",
              "    </tr>\n",
              "    <tr>\n",
              "      <th>PM10</th>\n",
              "      <td>46.000</td>\n",
              "      <td>49.000</td>\n",
              "      <td>37.000</td>\n",
              "      <td>59.000</td>\n",
              "      <td>39.000</td>\n",
              "      <td>32.000</td>\n",
              "      <td>31.000</td>\n",
              "      <td>20.000</td>\n",
              "      <td>24.000</td>\n",
              "      <td>28.000</td>\n",
              "      <td>44.000</td>\n",
              "      <td>36.000</td>\n",
              "      <td>36.000</td>\n",
              "      <td>46.000</td>\n",
              "      <td>45.000</td>\n",
              "      <td>36.000</td>\n",
              "      <td>39.000</td>\n",
              "      <td>28.000</td>\n",
              "      <td>25.000</td>\n",
              "      <td>28.000</td>\n",
              "      <td>27.000</td>\n",
              "      <td>27.000</td>\n",
              "      <td>32.000</td>\n",
              "      <td>33.000</td>\n",
              "      <td>32.000</td>\n",
              "      <td>33.000</td>\n",
              "      <td>33.000</td>\n",
              "      <td>36.000</td>\n",
              "      <td>33.000</td>\n",
              "      <td>30.000</td>\n",
              "    </tr>\n",
              "  </tbody>\n",
              "</table>\n",
              "</div>"
            ],
            "text/plain": [
              "      2018. 01  2018. 02  2018. 03  ...  2020. 04  2020. 05  2020. 06\n",
              "종류                                  ...                              \n",
              "SO2      0.004     0.004     0.004  ...     0.003     0.004     0.005\n",
              "NO2      0.014     0.020     0.023  ...     0.016     0.015     0.017\n",
              "O3       0.016     0.023     0.028  ...     0.033     0.030     0.029\n",
              "CO       0.900     0.700     0.600  ...     0.600     0.700     0.700\n",
              "PM10    46.000    49.000    37.000  ...    36.000    33.000    30.000\n",
              "\n",
              "[5 rows x 30 columns]"
            ]
          },
          "metadata": {
            "tags": []
          },
          "execution_count": 4
        }
      ]
    },
    {
      "cell_type": "code",
      "metadata": {
        "id": "qpjeFBcnIiV7",
        "colab": {
          "base_uri": "https://localhost:8080/"
        },
        "outputId": "89a673e8-fa67-42c5-ac9f-0f91d40d44e4"
      },
      "source": [
        "df2.iloc[1,0:]"
      ],
      "execution_count": 5,
      "outputs": [
        {
          "output_type": "execute_result",
          "data": {
            "text/plain": [
              "2018. 01    0.014\n",
              "2018. 02    0.020\n",
              "2018. 03    0.023\n",
              "2018. 04    0.023\n",
              "2018. 05    0.018\n",
              "2018. 06    0.014\n",
              "2018. 07    0.012\n",
              "2018. 08    0.013\n",
              "2018. 09    0.017\n",
              "2018. 10    0.017\n",
              "2018. 11    0.024\n",
              "2018. 12    0.022\n",
              "2019. 01    0.026\n",
              "2019. 02    0.028\n",
              "2019. 03    0.025\n",
              "2019. 04    0.026\n",
              "2019. 05    0.026\n",
              "2019. 06    0.023\n",
              "2019. 07    0.017\n",
              "2019. 08    0.017\n",
              "2019. 09    0.019\n",
              "2019. 10    0.022\n",
              "2019. 11    0.024\n",
              "2019. 12    0.026\n",
              "2020. 01    0.026\n",
              "2020. 02    0.023\n",
              "2020. 03    0.019\n",
              "2020. 04    0.016\n",
              "2020. 05    0.015\n",
              "2020. 06    0.017\n",
              "Name: NO2, dtype: float64"
            ]
          },
          "metadata": {
            "tags": []
          },
          "execution_count": 5
        }
      ]
    },
    {
      "cell_type": "code",
      "metadata": {
        "id": "Ey99CTzgIiY8",
        "colab": {
          "base_uri": "https://localhost:8080/"
        },
        "outputId": "3c9252c7-aa42-40f9-fe7a-533a91163000"
      },
      "source": [
        "df2.columns"
      ],
      "execution_count": null,
      "outputs": [
        {
          "output_type": "execute_result",
          "data": {
            "text/plain": [
              "Index(['2018. 01', '2018. 02', '2018. 03', '2018. 04', '2018. 05', '2018. 06',\n",
              "       '2018. 07', '2018. 08', '2018. 09', '2018. 10', '2018. 11', '2018. 12',\n",
              "       '2019. 01', '2019. 02', '2019. 03', '2019. 04', '2019. 05', '2019. 06',\n",
              "       '2019. 07', '2019. 08', '2019. 09', '2019. 10', '2019. 11', '2019. 12',\n",
              "       '2020. 01', '2020. 02', '2020. 03', '2020. 04', '2020. 05', '2020. 06'],\n",
              "      dtype='object')"
            ]
          },
          "metadata": {
            "tags": []
          },
          "execution_count": 6
        }
      ]
    },
    {
      "cell_type": "code",
      "metadata": {
        "id": "btIyFqFT_nFm"
      },
      "source": [
        "plt.subplot(7,1,1)\r\n",
        "plt.plot(df2.columns,df2.iloc[0,0:],label='SO2',color='r')\r\n",
        "plt.subplot(7,1,2)\r\n",
        "plt.plot(df2.columns,df2.iloc[1,0:])\r\n",
        "plt.subplot(7,1,3)\r\n",
        "plt.plot(df2.columns,df2.iloc[2,0:])\r\n",
        "plt.subplot(7,1,4)\r\n",
        "plt.plot(df2.columns,df2.iloc[3,0:])\r\n",
        "plt.subplot(7,1,5)\r\n",
        "plt.plot(df2.columns,df2.iloc[4,0:])\r\n",
        "plt.subplot(7,1,6)\r\n",
        "plt.plot(df2.columns,df2.iloc[5,0:])\r\n",
        "plt.subplot(7,1,7)\r\n",
        "plt.plot(df2.columns,df2.iloc[6,0:])\r\n",
        "plt.figure(figsize=(90000,90000))\r\n",
        "plt.show()"
      ],
      "execution_count": null,
      "outputs": []
    },
    {
      "cell_type": "code",
      "metadata": {
        "id": "lHKQ47Sk7GXz"
      },
      "source": [
        "sns.pairplot(df)"
      ],
      "execution_count": null,
      "outputs": []
    },
    {
      "cell_type": "code",
      "metadata": {
        "id": "GJfOAtLray2P",
        "colab": {
          "base_uri": "https://localhost:8080/",
          "height": 1000
        },
        "outputId": "1a0a12d4-2a82-43d3-a945-60b27d7b6d39"
      },
      "source": [
        "sns.relplot(x=\"년월\", y=\"SO2\", data=df, kind='line', height=5, aspect=2)\r\n",
        "plt.xticks(size=8,rotation=60)"
      ],
      "execution_count": null,
      "outputs": [
        {
          "output_type": "execute_result",
          "data": {
            "text/plain": [
              "([0,\n",
              "  1,\n",
              "  2,\n",
              "  3,\n",
              "  4,\n",
              "  5,\n",
              "  6,\n",
              "  7,\n",
              "  8,\n",
              "  9,\n",
              "  10,\n",
              "  11,\n",
              "  12,\n",
              "  13,\n",
              "  14,\n",
              "  15,\n",
              "  16,\n",
              "  17,\n",
              "  18,\n",
              "  19,\n",
              "  20,\n",
              "  21,\n",
              "  22,\n",
              "  23,\n",
              "  24,\n",
              "  25,\n",
              "  26,\n",
              "  27,\n",
              "  28,\n",
              "  29],\n",
              " <a list of 30 Text major ticklabel objects>)"
            ]
          },
          "metadata": {
            "tags": []
          },
          "execution_count": 7
        },
        {
          "output_type": "stream",
          "text": [
            "/usr/local/lib/python3.6/dist-packages/matplotlib/backends/backend_agg.py:214: RuntimeWarning: Glyph 45380 missing from current font.\n",
            "  font.set_text(s, 0.0, flags=flags)\n",
            "/usr/local/lib/python3.6/dist-packages/matplotlib/backends/backend_agg.py:214: RuntimeWarning: Glyph 50900 missing from current font.\n",
            "  font.set_text(s, 0.0, flags=flags)\n",
            "/usr/local/lib/python3.6/dist-packages/matplotlib/backends/backend_agg.py:183: RuntimeWarning: Glyph 45380 missing from current font.\n",
            "  font.set_text(s, 0, flags=flags)\n",
            "/usr/local/lib/python3.6/dist-packages/matplotlib/backends/backend_agg.py:183: RuntimeWarning: Glyph 50900 missing from current font.\n",
            "  font.set_text(s, 0, flags=flags)\n"
          ],
          "name": "stderr"
        },
        {
          "output_type": "display_data",
          "data": {
            "image/png": "[encoded data removed]",
            "text/plain": [
              "<Figure size 720x360 with 1 Axes>"
            ]
          },
          "metadata": {
            "tags": [],
            "needs_background": "light"
          }
        }
      ]
    },
    {
      "cell_type": "code",
      "metadata": {
        "id": "HslKd4IAayQN"
      },
      "source": [
        "sns.relplot(x=\"년월\", y=\"NO2\", data=df, kind='line', height=5, aspect=2)\r\n",
        "plt.xticks(size=8,rotation=60)"
      ],
      "execution_count": null,
      "outputs": []
    },
    {
      "cell_type": "code",
      "metadata": {
        "id": "XEaZYWjesCcN"
      },
      "source": [
        "sns.relplot(x=\"년월\", y=\"O3\", data=df, kind='line', height=5, aspect=2)\r\n",
        "plt.xticks(size=8,rotation=60)"
      ],
      "execution_count": null,
      "outputs": []
    },
    {
      "cell_type": "code",
      "metadata": {
        "id": "jutFn-elsDFH"
      },
      "source": [
        "sns.relplot(x=\"년월\", y=\"CO\", data=df, kind='line', height=5, aspect=2)\r\n",
        "plt.xticks(size=8,rotation=60)"
      ],
      "execution_count": null,
      "outputs": []
    },
    {
      "cell_type": "code",
      "metadata": {
        "id": "aG-MU-tesDth"
      },
      "source": [
        "sns.relplot(x=\"년월\", y=\"PM10\", data=df, kind='line', height=5, aspect=2)\r\n",
        "plt.xticks(size=8,rotation=60)"
      ],
      "execution_count": null,
      "outputs": []
    },
    {
      "cell_type": "code",
      "metadata": {
        "id": "CbVOAi3asNib"
      },
      "source": [
        "sns.relplot(x=\"년월\", y=\"전기차\", data=df, kind='line', height=5, aspect=2)\r\n",
        "plt.xticks(size=8,rotation=60)"
      ],
      "execution_count": null,
      "outputs": []
    },
    {
      "cell_type": "code",
      "metadata": {
        "id": "8QY2kNwCsNqY"
      },
      "source": [
        "sns.relplot(x=\"년월\", y=\"승용차\", data=df, kind='line', height=5, aspect=2)\r\n",
        "plt.xticks(size=8,rotation=60)"
      ],
      "execution_count": null,
      "outputs": []
    },
    {
      "cell_type": "code",
      "metadata": {
        "id": "bhJEkvXVl78z"
      },
      "source": [
        ""
      ],
      "execution_count": null,
      "outputs": []
    },
    {
      "cell_type": "code",
      "metadata": {
        "id": "LvuQgpGPl8Ge"
      },
      "source": [
        ""
      ],
      "execution_count": null,
      "outputs": []
    },
    {
      "cell_type": "code",
      "metadata": {
        "id": "5HJuGsICl8Jw"
      },
      "source": [
        ""
      ],
      "execution_count": null,
      "outputs": []
    }
  ]
}